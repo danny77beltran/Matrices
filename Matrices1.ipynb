{
  "nbformat": 4,
  "nbformat_minor": 0,
  "metadata": {
    "colab": {
      "provenance": [],
      "authorship_tag": "ABX9TyOk9ZZ6ZmcKD2oKM0X3GApR",
      "include_colab_link": true
    },
    "kernelspec": {
      "name": "python3",
      "display_name": "Python 3"
    },
    "language_info": {
      "name": "python"
    }
  },
  "cells": [
    {
      "cell_type": "markdown",
      "metadata": {
        "id": "view-in-github",
        "colab_type": "text"
      },
      "source": [
        "<a href=\"https://colab.research.google.com/github/danny77beltran/Matrices/blob/main/Matrices1.ipynb\" target=\"_parent\"><img src=\"https://colab.research.google.com/assets/colab-badge.svg\" alt=\"Open In Colab\"/></a>"
      ]
    },
    {
      "cell_type": "code",
      "execution_count": 8,
      "metadata": {
        "colab": {
          "base_uri": "https://localhost:8080/",
          "height": 373
        },
        "id": "UCZNBWKnsQlU",
        "outputId": "bf7a7610-1e24-4599-a8a8-954a25a4f6f2"
      },
      "outputs": [
        {
          "output_type": "stream",
          "name": "stdout",
          "text": [
            "Matriz A:\n",
            " [[ 1  0]\n",
            " [ 6 -2]\n",
            " [-1  4]]\n",
            "\n",
            "Matriz B:\n",
            " [[ 2 -5  1 -2]\n",
            " [ 3  2  0 -1]]\n",
            "\n",
            " Multiplicación por escalar (2 * A):\n",
            " [[ 2  0]\n",
            " [12 -4]\n",
            " [-2  8]]\n",
            "\n",
            " Producto matricial (A * B):\n",
            " [[  2  -5   1  -2]\n",
            " [  6 -34   6 -10]\n",
            " [ 10  13  -1  -2]]\n",
            "El valor de C[1,3] =  2\n"
          ]
        },
        {
          "output_type": "execute_result",
          "data": {
            "text/plain": [
              "'\\ntranspuesta = A.T\\nprint(\"\\n Transpuesta de A (Aᵀ):\\n\", transpuesta)\\n'"
            ],
            "application/vnd.google.colaboratory.intrinsic+json": {
              "type": "string"
            }
          },
          "metadata": {},
          "execution_count": 8
        }
      ],
      "source": [
        "import numpy as np\n",
        "\n",
        "# Definir dos matrices A y B de 3x3\n",
        "A = np.array([[1, 0, ],\n",
        "              [6, -2, ],\n",
        "              [-1, 4, ]])\n",
        "\n",
        "B = np.array([[2, -5, 1, -2,],\n",
        "              [3, 2, 0, -1,],\n",
        "              ])\n",
        "\n",
        "print(\"Matriz A:\\n\", A)\n",
        "print(\"\\nMatriz B:\\n\", B)\n",
        "'''\n",
        "# ------------------------------\n",
        "# Suma de matrices\n",
        "# ------------------------------\n",
        "suma = A + B\n",
        "print(\"\\n Suma (A + B):\\n\", suma)\n",
        "'''\n",
        "# ------------------------------\n",
        "#  Resta de matrices\n",
        "# ------------------------------\n",
        "'''\n",
        "\n",
        "resta = A - B\n",
        "print(\"\\n Resta (A - B):\\n\", resta)\n",
        "'''\n",
        "\n",
        "# ------------------------------\n",
        "# Multiplicación por un escalar\n",
        "# ------------------------------\n",
        "escalar = 2\n",
        "producto_escalar = escalar * A\n",
        "print(f\"\\n Multiplicación por escalar ({escalar} * A):\\n\", producto_escalar)\n",
        "\n",
        "# ------------------------------\n",
        "#  Multiplicación matricial\n",
        "# ------------------------------\n",
        "producto = np.dot(A, B)   # o A @ B\n",
        "print(\"\\n Producto matricial (A * B):\\n\", producto)\n",
        "\n",
        "valor = A[0,0] * B[0,0] + A[0,1] * B[1,0]\n",
        "print(\"El valor de C[1,3] = \",valor)\n",
        "\n",
        "# ------------------------------\n",
        "# Matriz transpuesta\n",
        "# ------------------------------\n",
        "'''\n",
        "transpuesta = A.T\n",
        "print(\"\\n Transpuesta de A (Aᵀ):\\n\", transpuesta)\n",
        "'''"
      ]
    }
  ]
}