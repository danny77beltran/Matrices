{
  "nbformat": 4,
  "nbformat_minor": 0,
  "metadata": {
    "colab": {
      "provenance": [],
      "authorship_tag": "ABX9TyPokvsHTq/UABSothTd0G4g",
      "include_colab_link": true
    },
    "kernelspec": {
      "name": "python3",
      "display_name": "Python 3"
    },
    "language_info": {
      "name": "python"
    }
  },
  "cells": [
    {
      "cell_type": "markdown",
      "metadata": {
        "id": "view-in-github",
        "colab_type": "text"
      },
      "source": [
        "<a href=\"https://colab.research.google.com/github/danny77beltran/Matrices/blob/main/MatricesDeber.ipynb\" target=\"_parent\"><img src=\"https://colab.research.google.com/assets/colab-badge.svg\" alt=\"Open In Colab\"/></a>"
      ]
    },
    {
      "cell_type": "code",
      "execution_count": 12,
      "metadata": {
        "colab": {
          "base_uri": "https://localhost:8080/",
          "height": 390
        },
        "id": "UCZNBWKnsQlU",
        "outputId": "e999b432-9e9c-4679-ffcb-fae2ca2588aa"
      },
      "outputs": [
        {
          "output_type": "stream",
          "name": "stdout",
          "text": [
            "Matriz A:\n",
            " [[ 2  4  6]\n",
            " [ 1  3  5]\n",
            " [ 0 -1  2]]\n",
            "\n",
            "Matriz B:\n",
            " [[ 3  2  1]\n",
            " [ 4  0 -2]\n",
            " [ 1  3  5]]\n",
            "\n",
            " Multiplicación por escalar (2 * A):\n",
            " [[ 4  8 12]\n",
            " [ 2  6 10]\n",
            " [ 0 -2  4]]\n",
            "\n",
            " Producto matricial (A * B):\n",
            " [[28 22 24]\n",
            " [20 17 20]\n",
            " [-2  6 12]]\n",
            "El valor de C[0,2] =  24\n"
          ]
        },
        {
          "output_type": "execute_result",
          "data": {
            "text/plain": [
              "'\\ntranspuesta = A.T\\nprint(\"\\n Transpuesta de A (Aᵀ):\\n\", transpuesta)\\n'"
            ],
            "application/vnd.google.colaboratory.intrinsic+json": {
              "type": "string"
            }
          },
          "metadata": {},
          "execution_count": 12
        }
      ],
      "source": [
        "import numpy as np\n",
        "\n",
        "# Definir dos matrices A y B de 3x3\n",
        "A = np.array([[2, 4, 6,],\n",
        "              [1, 3, 5,],\n",
        "              [0, -1, 2,]])\n",
        "\n",
        "B = np.array([[3, 2, 1,],\n",
        "              [4 , 0, -2,],\n",
        "              [1, 3, 5,]\n",
        "              ])\n",
        "\n",
        "print(\"Matriz A:\\n\", A)\n",
        "print(\"\\nMatriz B:\\n\", B)\n",
        "'''\n",
        "# ------------------------------\n",
        "# Suma de matrices\n",
        "# ------------------------------\n",
        "suma = A + B\n",
        "print(\"\\n Suma (A + B):\\n\", suma)\n",
        "'''\n",
        "# ------------------------------\n",
        "#  Resta de matrices\n",
        "# ------------------------------\n",
        "'''\n",
        "\n",
        "resta = A - B\n",
        "print(\"\\n Resta (A - B):\\n\", resta)\n",
        "'''\n",
        "\n",
        "# ------------------------------\n",
        "# Multiplicación por un escalar\n",
        "# ------------------------------\n",
        "escalar = 2\n",
        "producto_escalar = escalar * A\n",
        "print(f\"\\n Multiplicación por escalar ({escalar} * A):\\n\", producto_escalar)\n",
        "\n",
        "# ------------------------------\n",
        "#  Multiplicación matricial\n",
        "# ------------------------------\n",
        "producto = np.dot(A, B)   # o A @ B\n",
        "print(\"\\n Producto matricial (A * B):\\n\", producto)\n",
        "\n",
        "valor = A[0,0] * B[0,2] + A[0,1] * B[1,2] + A[0,2] * B[2,2]\n",
        "print(\"El valor de C[0,2] = \",valor)\n",
        "\n",
        "# ------------------------------\n",
        "# Matriz transpuesta\n",
        "# ------------------------------\n",
        "'''\n",
        "transpuesta = A.T\n",
        "print(\"\\n Transpuesta de A (Aᵀ):\\n\", transpuesta)\n",
        "'''"
      ]
    }
  ]
}